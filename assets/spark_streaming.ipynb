{
 "cells": [
  {
   "cell_type": "code",
   "execution_count": null,
   "id": "8de3bfff-2f5e-4f47-a8be-f1967e71ff8f",
   "metadata": {
    "microsoft": {
     "language": "python",
     "language_group": "synapse_pyspark"
    }
   },
   "outputs": [],
   "source": [
    "# Spark Streaming"
   ]
  },
  {
   "cell_type": "code",
   "execution_count": null,
   "id": "4dbce302-a605-4992-881f-e552b9e968b9",
   "metadata": {
    "microsoft": {
     "language": "python",
     "language_group": "synapse_pyspark"
    }
   },
   "outputs": [],
   "source": [
    "from pyspark.sql.types import StructType, StringType, DoubleType, TimestampType\n",
    "import os\n",
    "import json\n",
    "import pyspark.sql.functions as F\n",
    "import time\n",
    "\n",
    "source_path = \"Files/streaming/source\"\n",
    "checkpoint_path = \"Files/streaming/checkpoint\"\n",
    "\n",
    "# Define schema\n",
    "file_schema = StructType() \\\n",
    "    .add(\"id\", StringType()) \\\n",
    "    .add(\"temperature\", DoubleType()) \\\n",
    "    .add(\"timestamp\", TimestampType())\n",
    "\n",
    "# Define logical table path using Lakehouse naming convention\n",
    "table_name = \"temperature_stream\"\n",
    "table_path = f\"Tables/{table_name}\"\n",
    "\n",
    "# Create empty DataFrame with schema\n",
    "empty_df = spark.createDataFrame([], schema=file_schema)\n",
    "\n",
    "# Write as a Delta table to Lakehouse\n",
    "empty_df.write.format(\"delta\").mode(\"overwrite\").saveAsTable(table_name)\n",
    "\n",
    "print(f\"Table created: {table_path}\")"
   ]
  },
  {
   "cell_type": "code",
   "execution_count": null,
   "id": "37453d34-e045-433b-a4ba-a1b3b909d9ec",
   "metadata": {
    "microsoft": {
     "language": "python",
     "language_group": "synapse_pyspark"
    }
   },
   "outputs": [],
   "source": [
    "# Read streaming data to unbounded table/dataframe\n",
    "raw_stream_df = spark.readStream \\\n",
    "    .schema(file_schema) \\\n",
    "    .option(\"maxFilesPerTrigger\", 1) \\\n",
    "    .json(source_path)\n",
    "\n",
    "# Example transformation that adds a processed_timestamp column to the data\n",
    "transformed_stream_df = raw_stream_df \\\n",
    "    .withColumn(\"processed_timestamp\", \\\n",
    "    F.current_timestamp())\n",
    "\n",
    "# Stream data to a delta table\n",
    "deltastream = transformed_stream_df.writeStream \\\n",
    "            .format(\"delta\") \\\n",
    "            .outputMode(\"append\") \\\n",
    "            .option(\"checkpointLocation\", checkpoint_path) \\\n",
    "            .start(f\"Tables/{table_name}\")"
   ]
  },
  {
   "cell_type": "code",
   "execution_count": null,
   "id": "9bb0e3ef",
   "metadata": {},
   "outputs": [],
   "source": [
    "# Examining streamed data\n",
    "df = spark.sql(\"SELECT * FROM fab_lakehouse2.temperature_stream LIMIT 1000\")\n",
    "display(df)"
   ]
  },
  {
   "cell_type": "code",
   "execution_count": null,
   "id": "71c27718",
   "metadata": {},
   "outputs": [],
   "source": [
    "# Check if the stream is still active\n",
    "deltastream.isActive"
   ]
  },
  {
   "cell_type": "code",
   "execution_count": null,
   "id": "59f843b8",
   "metadata": {},
   "outputs": [],
   "source": [
    "# Check the status of the stream\n",
    "deltastream.status"
   ]
  }
 ],
 "metadata": {
  "dependencies": {
   "lakehouse": {
    "default_lakehouse": "10913d57-70f0-4069-b7d7-5661f9783ab1",
    "default_lakehouse_name": "fab_lakehouse2",
    "default_lakehouse_workspace_id": "68d0ce5a-88fc-4db9-bf6a-c75217d95ad6",
    "known_lakehouses": [
     {
      "id": "10913d57-70f0-4069-b7d7-5661f9783ab1"
     }
    ]
   }
  },
  "kernel_info": {
   "name": "synapse_pyspark"
  },
  "kernelspec": {
   "display_name": "synapse_pyspark",
   "name": "synapse_pyspark"
  },
  "language_info": {
   "name": "python"
  },
  "microsoft": {
   "language": "python",
   "language_group": "synapse_pyspark",
   "ms_spell_check": {
    "ms_spell_check_language": "en"
   }
  },
  "nteract": {
   "version": "nteract-front-end@1.0.0"
  },
  "spark_compute": {
   "compute_id": "/trident/default",
   "session_options": {
    "conf": {
     "spark.synapse.nbs.session.timeout": "1200000"
    }
   }
  }
 },
 "nbformat": 4,
 "nbformat_minor": 5
}
